{
  "cells": [
    {
      "cell_type": "code",
      "execution_count": null,
      "metadata": {
        "id": "m8BnJIZkVBuS"
      },
      "outputs": [],
      "source": [
        "import string\n",
        "import numpy as np\n",
        "\n",
        "from keras.preprocessing.text import Tokenizer\n",
        "from keras.preprocessing.sequence import pad_sequences\n",
        "from keras.models import Model\n",
        "from keras.layers import LSTM, Input, TimeDistributed, Dense, Activation, RepeatVector, Embedding\n",
        "from keras.optimizers import Adam\n",
        "from keras.losses import sparse_categorical_crossentropy\n",
        "\n",
        "# Path to translation file\n",
        "path_to_data = r\"C:\\Users\\phani\\OneDrive\\Trainings\\IP Training AI\\AI and Deep Learning using TensorFLow\\NLP\\spa-eng\\spa.txt\"\n",
        "\n",
        "# Read file\n",
        "translation_file = open(path_to_data,\"r\", encoding='utf-8')\n",
        "raw_data = translation_file.read()\n",
        "translation_file.close()\n",
        "\n",
        "# Parse data\n",
        "raw_data = raw_data.split('\\n')\n",
        "pairs = [sentence.split('\\t') for sentence in  raw_data]\n",
        "pairs = pairs[1000:20000]"
      ]
    },
    {
      "cell_type": "code",
      "execution_count": null,
      "metadata": {
        "id": "1LwVnIByVBuU"
      },
      "outputs": [],
      "source": [
        "translation_file = open(path_to_data,\"r\", encoding='utf-8')\n",
        "raw_data = translation_file.read()\n",
        "translation_file.close()\n",
        "\n",
        "# Parse data\n",
        "raw_data = raw_data.split('\\n')\n",
        "pairs = [sentence.split('\\t') for sentence in  raw_data]\n",
        "pairs = pairs[1000:20000]"
      ]
    },
    {
      "cell_type": "code",
      "execution_count": null,
      "metadata": {
        "id": "W-kj8XNGVBuW"
      },
      "outputs": [],
      "source": [
        "def clean_sentence(sentence):\n",
        "    # Lower case the sentence\n",
        "    lower_case_sent = sentence.lower()\n",
        "    # Strip punctuation\n",
        "    string_punctuation = string.punctuation + \"¡\" + '¿'\n",
        "    clean_sentence = lower_case_sent.translate(str.maketrans('', '', string_punctuation))\n",
        "\n",
        "    return clean_sentence\n",
        "\n",
        "def tokenize(sentences):\n",
        "    # Create tokenizer\n",
        "    text_tokenizer = Tokenizer()\n",
        "    # Fit texts\n",
        "    text_tokenizer.fit_on_texts(sentences)\n",
        "    return text_tokenizer.texts_to_sequences(sentences), text_tokenizer"
      ]
    },
    {
      "cell_type": "code",
      "execution_count": null,
      "metadata": {
        "id": "LpfIoqaHVBuW"
      },
      "outputs": [],
      "source": [
        "def tokenize(sentences):\n",
        "    # Create tokenizer\n",
        "    text_tokenizer = Tokenizer()\n",
        "    # Fit texts\n",
        "    text_tokenizer.fit_on_texts(sentences)\n",
        "    return text_tokenizer.texts_to_sequences(sentences), text_tokenizer"
      ]
    },
    {
      "cell_type": "code",
      "execution_count": null,
      "metadata": {
        "id": "-_XIAKL8VBuX",
        "outputId": "ed21bb7d-8139-49eb-c07f-9c0856b53832"
      },
      "outputs": [
        {
          "name": "stdout",
          "output_type": "stream",
          "text": [
            "[[1, 2, 3, 4], [1, 5]]\n"
          ]
        }
      ],
      "source": [
        "sample = [\"Hello How are you\", \"Hello Hi\"]\n",
        "english_sentences = [clean_sentence(sent) for sent in sample]\n",
        "eng_text_tokenized, eng_text_tokenizer = tokenize(sample)\n",
        "print(eng_text_tokenized)"
      ]
    },
    {
      "cell_type": "code",
      "execution_count": null,
      "metadata": {
        "id": "aHPgzX85VBuY",
        "outputId": "be789236-ea90-4672-e3ff-d5030d5bb0f1"
      },
      "outputs": [
        {
          "name": "stdout",
          "output_type": "stream",
          "text": [
            "Maximum length spanish sentence: 9\n",
            "Maximum length english sentence: 5\n",
            "Spanish vocabulary is of 7265 unique words\n",
            "English vocabulary is of 3722 unique words\n"
          ]
        }
      ],
      "source": [
        "\n",
        "# Clean sentences\n",
        "english_sentences = [clean_sentence(pair[0]) for pair in pairs]\n",
        "spanish_sentences = [clean_sentence(pair[1]) for pair in pairs]\n",
        "\n",
        "# Tokenize words\n",
        "spa_text_tokenized, spa_text_tokenizer = tokenize(spanish_sentences)\n",
        "eng_text_tokenized, eng_text_tokenizer = tokenize(english_sentences)\n",
        "\n",
        "print('Maximum length spanish sentence: {}'.format(len(max(spa_text_tokenized,key=len))))\n",
        "print('Maximum length english sentence: {}'.format(len(max(eng_text_tokenized,key=len))))\n",
        "\n",
        "\n",
        "# Check language length\n",
        "spanish_vocab = len(spa_text_tokenizer.word_index) + 1\n",
        "english_vocab = len(eng_text_tokenizer.word_index) + 1\n",
        "print(\"Spanish vocabulary is of {} unique words\".format(spanish_vocab))\n",
        "print(\"English vocabulary is of {} unique words\".format(english_vocab))"
      ]
    },
    {
      "cell_type": "code",
      "execution_count": null,
      "metadata": {
        "id": "e0YveU3sVBuZ"
      },
      "outputs": [],
      "source": [
        "max_spanish_len = int(len(max(spa_text_tokenized,key=len)))\n",
        "max_english_len = int(len(max(eng_text_tokenized,key=len)))\n",
        "\n",
        "spa_pad_sentence = pad_sequences(spa_text_tokenized, max_spanish_len, padding = \"post\")\n",
        "eng_pad_sentence = pad_sequences(eng_text_tokenized, max_english_len, padding = \"post\")\n",
        "\n",
        "# Reshape data\n",
        "spa_pad_sentence = spa_pad_sentence.reshape(*spa_pad_sentence.shape, 1)\n",
        "eng_pad_sentence = eng_pad_sentence.reshape(*eng_pad_sentence.shape, 1)"
      ]
    },
    {
      "cell_type": "code",
      "execution_count": null,
      "metadata": {
        "id": "Y8e3oC_0VBuZ"
      },
      "outputs": [],
      "source": [
        "#\n",
        "\n",
        "model = Sequential()\n",
        "model.add()\n",
        "model.add()"
      ]
    },
    {
      "cell_type": "code",
      "execution_count": null,
      "metadata": {
        "id": "4m5cDdknVBua"
      },
      "outputs": [],
      "source": [
        "### Model (Functional API)\n",
        "input_sequence = Input(shape=(max_spanish_len,)) # Sequence of integers\n",
        "embedding = Embedding(input_dim=spanish_vocab, output_dim=128,)(input_sequence)\n",
        "encoder = LSTM(64, return_sequences=False)(embedding)\n",
        "r_vec = RepeatVector(max_english_len)(encoder)\n",
        "decoder = LSTM(64, return_sequences=True, dropout=0.2)(r_vec)\n",
        "logits = TimeDistributed(Dense(english_vocab))(decoder)"
      ]
    },
    {
      "cell_type": "code",
      "execution_count": null,
      "metadata": {
        "id": "scp2k-F2VBub",
        "outputId": "7822c7a4-5c32-4955-ce8b-cc9526611b2b"
      },
      "outputs": [
        {
          "name": "stdout",
          "output_type": "stream",
          "text": [
            "Model: \"model\"\n",
            "_________________________________________________________________\n",
            " Layer (type)                Output Shape              Param #   \n",
            "=================================================================\n",
            " input_3 (InputLayer)        [(None, 9)]               0         \n",
            "                                                                 \n",
            " embedding_2 (Embedding)     (None, 9, 128)            929920    \n",
            "                                                                 \n",
            " lstm_1 (LSTM)               (None, 64)                49408     \n",
            "                                                                 \n",
            " repeat_vector (RepeatVecto  (None, 5, 64)             0         \n",
            " r)                                                              \n",
            "                                                                 \n",
            " lstm_2 (LSTM)               (None, 5, 64)             33024     \n",
            "                                                                 \n",
            " time_distributed (TimeDist  (None, 5, 3722)           241930    \n",
            " ributed)                                                        \n",
            "                                                                 \n",
            " activation (Activation)     (None, 5, 3722)           0         \n",
            "                                                                 \n",
            "=================================================================\n",
            "Total params: 1254282 (4.78 MB)\n",
            "Trainable params: 1254282 (4.78 MB)\n",
            "Non-trainable params: 0 (0.00 Byte)\n",
            "_________________________________________________________________\n"
          ]
        }
      ],
      "source": [
        "enc_dec_model = Model(input_sequence, Activation('softmax')(logits))\n",
        "enc_dec_model.compile(loss=sparse_categorical_crossentropy,\n",
        "              optimizer=Adam(1e-3),\n",
        "              metrics=['accuracy'])\n",
        "enc_dec_model.summary()"
      ]
    },
    {
      "cell_type": "code",
      "execution_count": null,
      "metadata": {
        "id": "mkGZOBhsVBub",
        "outputId": "063394ca-5c8d-4873-86b7-2e63a931ca3f"
      },
      "outputs": [
        {
          "name": "stdout",
          "output_type": "stream",
          "text": [
            "Epoch 1/100\n",
            "634/634 [==============================] - 20s 25ms/step - loss: 4.5318 - accuracy: 0.3599\n",
            "Epoch 2/100\n",
            "634/634 [==============================] - 15s 24ms/step - loss: 3.9573 - accuracy: 0.3931\n",
            "Epoch 3/100\n",
            "634/634 [==============================] - 15s 24ms/step - loss: 3.7564 - accuracy: 0.4036\n",
            "Epoch 4/100\n",
            "634/634 [==============================] - 15s 24ms/step - loss: 3.5516 - accuracy: 0.4207\n",
            "Epoch 5/100\n",
            "634/634 [==============================] - 16s 25ms/step - loss: 3.3395 - accuracy: 0.4435\n",
            "Epoch 6/100\n",
            "634/634 [==============================] - 17s 28ms/step - loss: 3.1206 - accuracy: 0.4720\n",
            "Epoch 7/100\n",
            "634/634 [==============================] - 16s 25ms/step - loss: 2.9385 - accuracy: 0.4934\n",
            "Epoch 8/100\n",
            "634/634 [==============================] - 16s 25ms/step - loss: 2.7829 - accuracy: 0.5114\n",
            "Epoch 9/100\n",
            "634/634 [==============================] - 16s 25ms/step - loss: 2.6449 - accuracy: 0.5273\n",
            "Epoch 10/100\n",
            "634/634 [==============================] - 16s 25ms/step - loss: 2.5210 - accuracy: 0.5406\n",
            "Epoch 11/100\n",
            "634/634 [==============================] - 17s 26ms/step - loss: 2.4056 - accuracy: 0.5555\n",
            "Epoch 12/100\n",
            "634/634 [==============================] - 16s 25ms/step - loss: 2.3008 - accuracy: 0.5675\n",
            "Epoch 13/100\n",
            "634/634 [==============================] - 16s 24ms/step - loss: 2.2079 - accuracy: 0.5775\n",
            "Epoch 14/100\n",
            "634/634 [==============================] - 16s 25ms/step - loss: 2.1173 - accuracy: 0.5895\n",
            "Epoch 15/100\n",
            "634/634 [==============================] - 15s 24ms/step - loss: 2.0321 - accuracy: 0.5999\n",
            "Epoch 16/100\n",
            "634/634 [==============================] - 15s 24ms/step - loss: 1.9529 - accuracy: 0.6097\n",
            "Epoch 17/100\n",
            "634/634 [==============================] - 15s 24ms/step - loss: 1.8790 - accuracy: 0.6193\n",
            "Epoch 18/100\n",
            "634/634 [==============================] - 16s 25ms/step - loss: 1.8027 - accuracy: 0.6292\n",
            "Epoch 19/100\n",
            "634/634 [==============================] - 16s 26ms/step - loss: 1.7366 - accuracy: 0.6383\n",
            "Epoch 20/100\n",
            "634/634 [==============================] - 15s 23ms/step - loss: 1.6674 - accuracy: 0.6487\n",
            "Epoch 21/100\n",
            "634/634 [==============================] - 16s 25ms/step - loss: 1.6067 - accuracy: 0.6560\n",
            "Epoch 22/100\n",
            "634/634 [==============================] - 15s 24ms/step - loss: 1.5435 - accuracy: 0.6658\n",
            "Epoch 23/100\n",
            "634/634 [==============================] - 15s 24ms/step - loss: 1.4842 - accuracy: 0.6752\n",
            "Epoch 24/100\n",
            "634/634 [==============================] - 17s 26ms/step - loss: 1.4284 - accuracy: 0.6839\n",
            "Epoch 25/100\n",
            "634/634 [==============================] - 17s 26ms/step - loss: 1.3747 - accuracy: 0.6935\n",
            "Epoch 26/100\n",
            "634/634 [==============================] - 18s 28ms/step - loss: 1.3197 - accuracy: 0.7030\n",
            "Epoch 27/100\n",
            "634/634 [==============================] - 16s 26ms/step - loss: 1.2705 - accuracy: 0.7120\n",
            "Epoch 28/100\n",
            "634/634 [==============================] - 15s 23ms/step - loss: 1.2248 - accuracy: 0.7189\n",
            "Epoch 29/100\n",
            "634/634 [==============================] - 16s 24ms/step - loss: 1.1750 - accuracy: 0.7296\n",
            "Epoch 30/100\n",
            "634/634 [==============================] - 15s 24ms/step - loss: 1.1354 - accuracy: 0.7363\n",
            "Epoch 31/100\n",
            "634/634 [==============================] - 14s 22ms/step - loss: 1.0886 - accuracy: 0.7467\n",
            "Epoch 32/100\n",
            "634/634 [==============================] - 15s 24ms/step - loss: 1.0498 - accuracy: 0.7533\n",
            "Epoch 33/100\n",
            "634/634 [==============================] - 14s 22ms/step - loss: 1.0100 - accuracy: 0.7621\n",
            "Epoch 34/100\n",
            "634/634 [==============================] - 14s 22ms/step - loss: 0.9719 - accuracy: 0.7697\n",
            "Epoch 35/100\n",
            "634/634 [==============================] - 15s 24ms/step - loss: 0.9358 - accuracy: 0.7780\n",
            "Epoch 36/100\n",
            "634/634 [==============================] - 13s 21ms/step - loss: 0.9074 - accuracy: 0.7832\n",
            "Epoch 37/100\n",
            "634/634 [==============================] - 13s 21ms/step - loss: 0.8769 - accuracy: 0.7905\n",
            "Epoch 38/100\n",
            "634/634 [==============================] - 14s 22ms/step - loss: 0.8433 - accuracy: 0.7970\n",
            "Epoch 39/100\n",
            "634/634 [==============================] - 19s 29ms/step - loss: 0.8164 - accuracy: 0.8034\n",
            "Epoch 40/100\n",
            "634/634 [==============================] - 19s 29ms/step - loss: 0.7869 - accuracy: 0.8099\n",
            "Epoch 41/100\n",
            "634/634 [==============================] - 21s 33ms/step - loss: 0.7605 - accuracy: 0.8160\n",
            "Epoch 42/100\n",
            "634/634 [==============================] - 20s 31ms/step - loss: 0.7372 - accuracy: 0.8213\n",
            "Epoch 43/100\n",
            "634/634 [==============================] - 18s 29ms/step - loss: 0.7105 - accuracy: 0.8268\n",
            "Epoch 44/100\n",
            "634/634 [==============================] - 17s 27ms/step - loss: 0.6880 - accuracy: 0.8315\n",
            "Epoch 45/100\n",
            "634/634 [==============================] - 17s 27ms/step - loss: 0.6712 - accuracy: 0.8349\n",
            "Epoch 46/100\n",
            "634/634 [==============================] - 17s 27ms/step - loss: 0.6483 - accuracy: 0.8405\n",
            "Epoch 47/100\n",
            "634/634 [==============================] - 20s 31ms/step - loss: 0.6314 - accuracy: 0.8432\n",
            "Epoch 48/100\n",
            "634/634 [==============================] - 18s 28ms/step - loss: 0.6115 - accuracy: 0.8482\n",
            "Epoch 49/100\n",
            "634/634 [==============================] - 18s 29ms/step - loss: 0.5949 - accuracy: 0.8504\n",
            "Epoch 50/100\n",
            "634/634 [==============================] - 18s 29ms/step - loss: 0.5772 - accuracy: 0.8549\n",
            "Epoch 51/100\n",
            "634/634 [==============================] - 18s 29ms/step - loss: 0.5636 - accuracy: 0.8583\n",
            "Epoch 52/100\n",
            "634/634 [==============================] - 19s 30ms/step - loss: 0.5472 - accuracy: 0.8610\n",
            "Epoch 53/100\n",
            "634/634 [==============================] - 19s 30ms/step - loss: 0.5338 - accuracy: 0.8641\n",
            "Epoch 54/100\n",
            "634/634 [==============================] - 18s 29ms/step - loss: 0.5202 - accuracy: 0.8671\n",
            "Epoch 55/100\n",
            "634/634 [==============================] - 18s 28ms/step - loss: 0.5082 - accuracy: 0.8689\n",
            "Epoch 56/100\n",
            "634/634 [==============================] - 18s 29ms/step - loss: 0.4959 - accuracy: 0.8715\n",
            "Epoch 57/100\n",
            "634/634 [==============================] - 19s 29ms/step - loss: 0.4844 - accuracy: 0.8742\n",
            "Epoch 58/100\n",
            "634/634 [==============================] - 18s 29ms/step - loss: 0.4747 - accuracy: 0.8752\n",
            "Epoch 59/100\n",
            "634/634 [==============================] - 18s 28ms/step - loss: 0.4660 - accuracy: 0.8780\n",
            "Epoch 60/100\n",
            "634/634 [==============================] - 19s 30ms/step - loss: 0.4531 - accuracy: 0.8809\n",
            "Epoch 61/100\n",
            "634/634 [==============================] - 18s 28ms/step - loss: 0.4445 - accuracy: 0.8826\n",
            "Epoch 62/100\n",
            "634/634 [==============================] - 18s 28ms/step - loss: 0.4327 - accuracy: 0.8843\n",
            "Epoch 63/100\n",
            "634/634 [==============================] - 18s 28ms/step - loss: 0.4251 - accuracy: 0.8859\n",
            "Epoch 64/100\n",
            "634/634 [==============================] - 19s 30ms/step - loss: 0.4186 - accuracy: 0.8884\n",
            "Epoch 65/100\n",
            "634/634 [==============================] - 18s 29ms/step - loss: 0.4074 - accuracy: 0.8902\n",
            "Epoch 66/100\n",
            "634/634 [==============================] - 18s 28ms/step - loss: 0.4044 - accuracy: 0.8907\n",
            "Epoch 67/100\n",
            "634/634 [==============================] - 19s 30ms/step - loss: 0.3955 - accuracy: 0.8922\n",
            "Epoch 68/100\n",
            "634/634 [==============================] - 18s 28ms/step - loss: 0.3891 - accuracy: 0.8921\n",
            "Epoch 69/100\n",
            "634/634 [==============================] - 19s 30ms/step - loss: 0.3785 - accuracy: 0.8961\n",
            "Epoch 70/100\n",
            "634/634 [==============================] - 19s 30ms/step - loss: 0.3764 - accuracy: 0.8953\n",
            "Epoch 71/100\n",
            "634/634 [==============================] - 18s 29ms/step - loss: 0.3698 - accuracy: 0.8973\n",
            "Epoch 72/100\n",
            "634/634 [==============================] - 17s 27ms/step - loss: 0.3591 - accuracy: 0.9002\n",
            "Epoch 73/100\n",
            "634/634 [==============================] - 18s 28ms/step - loss: 0.3551 - accuracy: 0.9006\n",
            "Epoch 74/100\n",
            "634/634 [==============================] - 19s 30ms/step - loss: 0.3462 - accuracy: 0.9028\n",
            "Epoch 75/100\n",
            "634/634 [==============================] - 20s 31ms/step - loss: 0.3428 - accuracy: 0.9025\n",
            "Epoch 76/100\n",
            "634/634 [==============================] - 18s 28ms/step - loss: 0.3384 - accuracy: 0.9046\n",
            "Epoch 77/100\n",
            "634/634 [==============================] - 22s 34ms/step - loss: 0.3336 - accuracy: 0.9046\n",
            "Epoch 78/100\n",
            "634/634 [==============================] - 19s 31ms/step - loss: 0.3305 - accuracy: 0.9058\n",
            "Epoch 79/100\n",
            "634/634 [==============================] - 19s 30ms/step - loss: 0.3251 - accuracy: 0.9062\n",
            "Epoch 80/100\n",
            "634/634 [==============================] - 20s 31ms/step - loss: 0.3204 - accuracy: 0.9087\n",
            "Epoch 81/100\n",
            "634/634 [==============================] - 19s 29ms/step - loss: 0.3130 - accuracy: 0.9099\n",
            "Epoch 82/100\n",
            "634/634 [==============================] - 19s 30ms/step - loss: 0.3080 - accuracy: 0.9109\n",
            "Epoch 83/100\n",
            "634/634 [==============================] - 18s 29ms/step - loss: 0.3071 - accuracy: 0.9106\n",
            "Epoch 84/100\n",
            "634/634 [==============================] - 19s 29ms/step - loss: 0.3012 - accuracy: 0.9116\n",
            "Epoch 85/100\n",
            "634/634 [==============================] - 21s 33ms/step - loss: 0.2982 - accuracy: 0.9127\n",
            "Epoch 86/100\n",
            "634/634 [==============================] - 19s 30ms/step - loss: 0.2943 - accuracy: 0.9133\n",
            "Epoch 87/100\n",
            "634/634 [==============================] - 24s 37ms/step - loss: 0.2902 - accuracy: 0.9138\n",
            "Epoch 88/100\n",
            "634/634 [==============================] - 24s 38ms/step - loss: 0.2872 - accuracy: 0.9147\n",
            "Epoch 89/100\n",
            "634/634 [==============================] - 23s 36ms/step - loss: 0.2841 - accuracy: 0.9151\n",
            "Epoch 90/100\n",
            "634/634 [==============================] - 22s 34ms/step - loss: 0.2809 - accuracy: 0.9160\n",
            "Epoch 91/100\n",
            "634/634 [==============================] - 20s 31ms/step - loss: 0.2747 - accuracy: 0.9175\n",
            "Epoch 92/100\n",
            "634/634 [==============================] - 17s 26ms/step - loss: 0.2724 - accuracy: 0.9184\n",
            "Epoch 93/100\n",
            "634/634 [==============================] - 16s 26ms/step - loss: 0.2721 - accuracy: 0.9172\n",
            "Epoch 94/100\n",
            "634/634 [==============================] - 18s 28ms/step - loss: 0.2669 - accuracy: 0.9192\n",
            "Epoch 95/100\n",
            "634/634 [==============================] - 19s 30ms/step - loss: 0.2644 - accuracy: 0.9206\n",
            "Epoch 96/100\n",
            "634/634 [==============================] - 19s 30ms/step - loss: 0.2646 - accuracy: 0.9189\n",
            "Epoch 97/100\n",
            "634/634 [==============================] - 18s 29ms/step - loss: 0.2609 - accuracy: 0.9192\n",
            "Epoch 98/100\n",
            "634/634 [==============================] - 18s 29ms/step - loss: 0.2568 - accuracy: 0.9226\n",
            "Epoch 99/100\n",
            "634/634 [==============================] - 18s 29ms/step - loss: 0.2554 - accuracy: 0.9209\n",
            "Epoch 100/100\n",
            "634/634 [==============================] - 18s 29ms/step - loss: 0.2500 - accuracy: 0.9230\n"
          ]
        }
      ],
      "source": [
        "model_results = enc_dec_model.fit(spa_pad_sentence, eng_pad_sentence, batch_size=30, epochs=100)"
      ]
    },
    {
      "cell_type": "code",
      "execution_count": null,
      "metadata": {
        "id": "vV8C_30lVBuc",
        "outputId": "741714e8-09e2-4a73-d117-2935fe92716c"
      },
      "outputs": [
        {
          "name": "stdout",
          "output_type": "stream",
          "text": [
            "The english sentence is: seize him\n",
            "The spanish sentence is: prendedlo\n",
            "The predicted sentence is :\n",
            "1/1 [==============================] - 0s 37ms/step\n",
            "seize him <empty> <empty> <empty>\n"
          ]
        }
      ],
      "source": [
        "def logits_to_sentence(logits, tokenizer):\n",
        "\n",
        "    index_to_words = {idx: word for word, idx in tokenizer.word_index.items()}\n",
        "    index_to_words[0] = '<empty>'\n",
        "\n",
        "    return ' '.join([index_to_words[prediction] for prediction in np.argmax(logits, 1)])\n",
        "\n",
        "index = 14\n",
        "print(\"The english sentence is: {}\".format(english_sentences[index]))\n",
        "print(\"The spanish sentence is: {}\".format(spanish_sentences[index]))\n",
        "print('The predicted sentence is :')\n",
        "print(logits_to_sentence(enc_dec_model.predict(spa_pad_sentence[index:index+1])[0], eng_text_tokenizer))"
      ]
    }
  ],
  "metadata": {
    "kernelspec": {
      "display_name": "pytorch",
      "language": "python",
      "name": "python3"
    },
    "language_info": {
      "codemirror_mode": {
        "name": "ipython",
        "version": 3
      },
      "file_extension": ".py",
      "mimetype": "text/x-python",
      "name": "python",
      "nbconvert_exporter": "python",
      "pygments_lexer": "ipython3",
      "version": "3.8.10"
    },
    "colab": {
      "provenance": []
    }
  },
  "nbformat": 4,
  "nbformat_minor": 0
}